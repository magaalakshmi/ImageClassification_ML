{
  "cells": [
    {
      "cell_type": "code",
      "execution_count": null,
      "metadata": {
        "colab": {
          "base_uri": "https://localhost:8080/"
        },
        "id": "8F65X2Ptm1f0",
        "outputId": "f68b87df-87a9-4324-fc7d-cc6cb17b8edc"
      },
      "outputs": [
        {
          "name": "stdout",
          "output_type": "stream",
          "text": [
            "Requirement already satisfied: bing-image-downloader in /usr/local/lib/python3.10/dist-packages (1.1.2)\n"
          ]
        }
      ],
      "source": [
        "!pip install bing-image-downloader"
      ]
    },
    {
      "cell_type": "code",
      "execution_count": null,
      "metadata": {
        "colab": {
          "base_uri": "https://localhost:8080/"
        },
        "id": "coG2FpYKoDpX",
        "outputId": "7573bece-16da-482a-abac-3c91a7275aed"
      },
      "outputs": [
        {
          "name": "stdout",
          "output_type": "stream",
          "text": [
            "mkdir: cannot create directory ‘images’: File exists\n"
          ]
        }
      ],
      "source": [
        "!mkdir images"
      ]
    },
    {
      "cell_type": "code",
      "execution_count": null,
      "metadata": {
        "colab": {
          "base_uri": "https://localhost:8080/"
        },
        "id": "yd15FZt_oPQ8",
        "outputId": "cbf67463-3701-4667-9213-11e9b03bc4fe"
      },
      "outputs": [
        {
          "name": "stdout",
          "output_type": "stream",
          "text": [
            "[%] Downloading Images to /content/images/pretty sunflower\n",
            "\n",
            "\n",
            "[!!]Indexing page: 1\n",
            "\n",
            "[%] Indexed 89 Images on Page 1.\n",
            "\n",
            "===============================================\n",
            "\n",
            "[%] Downloading Image #1 from http://www.wallpaperbetter.com/wallpaper/555/59/732/beautiful-sunflowers-field-2K-wallpaper.jpg\n",
            "[%] File Downloaded !\n",
            "\n",
            "[%] Downloading Image #2 from https://wallpaperset.com/w/full/6/1/2/190995.jpg\n",
            "[%] File Downloaded !\n",
            "\n",
            "[%] Downloading Image #3 from http://wallsdesk.com/wp-content/uploads/2017/01/Sunflower-HD-Desktop.jpg\n",
            "[%] File Downloaded !\n",
            "\n",
            "[%] Downloading Image #4 from https://images6.alphacoders.com/416/thumb-1920-416350.jpg\n",
            "[%] File Downloaded !\n",
            "\n",
            "[%] Downloading Image #5 from https://www.wallpapers13.com/wp-content/uploads/2015/12/Sunflower-Field-Wallpaper-Beautiful-Flowers-Pictures-Sunflower-Field-Wallpaper.jpg\n",
            "[Error]Invalid image, not saving https://www.wallpapers13.com/wp-content/uploads/2015/12/Sunflower-Field-Wallpaper-Beautiful-Flowers-Pictures-Sunflower-Field-Wallpaper.jpg\n",
            "\n",
            "[!] Issue getting: https://www.wallpapers13.com/wp-content/uploads/2015/12/Sunflower-Field-Wallpaper-Beautiful-Flowers-Pictures-Sunflower-Field-Wallpaper.jpg\n",
            "[!] Error:: Invalid image, not saving https://www.wallpapers13.com/wp-content/uploads/2015/12/Sunflower-Field-Wallpaper-Beautiful-Flowers-Pictures-Sunflower-Field-Wallpaper.jpg\n",
            "\n",
            "[%] Downloading Image #5 from http://4.bp.blogspot.com/_W5lGWFz2VV4/TK5PqUu-ZTI/AAAAAAAAA-Q/rQXb9VnKUDc/s1600/_MG_3422+copy.jpg\n",
            "[%] File Downloaded !\n",
            "\n",
            "[%] Downloading Image #6 from http://travelikealocalvt.com/wp-content/uploads/2014/10/sunflower-963x1024.jpg\n",
            "[%] File Downloaded !\n",
            "\n",
            "[%] Downloading Image #7 from https://patchoguearts.org/wp-content/uploads/Pretty-Sunflower.jpg\n",
            "[%] File Downloaded !\n",
            "\n",
            "[%] Downloading Image #8 from https://1.bp.blogspot.com/-vuesf00axv8/WQhLlND7jdI/AAAAAAAAAfs/DDzzdZoob5offfQOex8KljHPS8isfcuWgCLcB/s1600/6.jpeg\n",
            "[%] File Downloaded !\n",
            "\n",
            "[%] Downloading Image #9 from http://images6.fanpop.com/image/photos/33300000/Sunflowers-flowers-33340979-2880-1800.jpg\n",
            "[%] File Downloaded !\n",
            "\n",
            "[%] Downloading Image #10 from https://i.pinimg.com/originals/a7/6b/bb/a76bbb14eca9f16e64c6c56be28fe8b7.jpg\n",
            "[%] File Downloaded !\n",
            "\n",
            "[%] Downloading Image #11 from http://www.proflowers.com/blog/wp-content/uploads/2012/08/6-11_Meaning-of-Sunflowers_Images.jpg\n",
            "[!] Issue getting: http://www.proflowers.com/blog/wp-content/uploads/2012/08/6-11_Meaning-of-Sunflowers_Images.jpg\n",
            "[!] Error:: HTTP Error 404: Not Found\n",
            "[%] Downloading Image #11 from https://images.pexels.com/photos/21461/pexels-photo.jpg?cs=srgb&amp;dl=pexels-skitterphoto-21461.jpg&amp;fm=jpg\n",
            "[%] File Downloaded !\n",
            "\n",
            "[%] Downloading Image #12 from https://media.blogto.com/articles/201961-sunflowrr.jpg?w=2048&amp;cmd=resize_then_crop&amp;height=1365&amp;quality=70\n",
            "[%] File Downloaded !\n",
            "\n",
            "[%] Downloading Image #13 from https://cdn.wallpapersafari.com/9/91/pmkLiv.jpg\n",
            "[%] File Downloaded !\n",
            "\n",
            "[%] Downloading Image #14 from https://wallpapercave.com/wp/wp2375041.jpg\n",
            "[%] File Downloaded !\n",
            "\n",
            "[%] Downloading Image #15 from https://wallpapercave.com/wp/wp2375039.jpg\n",
            "[%] File Downloaded !\n",
            "\n",
            "[%] Downloading Image #16 from https://upload.wikimedia.org/wikipedia/commons/8/8d/Sunflower_Field_near_Raichur%2C_India.jpg\n",
            "[%] File Downloaded !\n",
            "\n",
            "[%] Downloading Image #17 from https://i.pinimg.com/originals/7d/88/da/7d88da5b69b33992ff1aca649885f216.jpg\n",
            "[%] File Downloaded !\n",
            "\n",
            "[%] Downloading Image #18 from https://theboutiqueadventurer.com/wp-content/uploads/2021/03/texas-sunflower-field-with-sun-dropping-behind.jpg\n",
            "[%] File Downloaded !\n",
            "\n",
            "[%] Downloading Image #19 from https://cdn.wallpapersafari.com/93/95/G4Yin3.jpg\n",
            "[%] File Downloaded !\n",
            "\n",
            "[%] Downloading Image #20 from https://www.lonestartravelguide.com/wp-content/uploads/2021/01/shutterstock_260952233-scaled.jpg\n",
            "[!] Issue getting: https://www.lonestartravelguide.com/wp-content/uploads/2021/01/shutterstock_260952233-scaled.jpg\n",
            "[!] Error:: Remote end closed connection without response\n",
            "[%] Downloading Image #20 from https://i.pinimg.com/originals/92/79/ea/9279ea60fa0483df44feef2919d01bf3.jpg\n",
            "[%] File Downloaded !\n",
            "\n",
            "[%] Downloading Image #21 from http://4.bp.blogspot.com/-UGxiup_VBDc/To2-22gODjI/AAAAAAAAASM/vj2w4_I4pYw/s1600/Field_of_Sunflowers_Kentucky.jpg\n",
            "[%] File Downloaded !\n",
            "\n",
            "[%] Downloading Image #22 from https://i.redd.it/abicw7s70kmz.jpg\n",
            "[!] Issue getting: https://i.redd.it/abicw7s70kmz.jpg\n",
            "[!] Error:: HTTP Error 403: Blocked\n",
            "[%] Downloading Image #22 from https://www.milwaukeemag.com/wp-content/uploads/2020/08/GettyImages-536748783-1024x726.jpg\n",
            "[%] File Downloaded !\n",
            "\n",
            "[%] Downloading Image #23 from http://eskipaper.com/images/sunflower-field-4.jpg\n",
            "[%] File Downloaded !\n",
            "\n",
            "[%] Downloading Image #24 from https://northernvirginiamag.com/wp-content/uploads/2021/07/sunflower.jpg\n",
            "[%] File Downloaded !\n",
            "\n",
            "[%] Downloading Image #25 from https://wallpapercave.com/wp/wp2374935.jpg\n",
            "[%] File Downloaded !\n",
            "\n",
            "[%] Downloading Image #26 from https://uncoveringpa.com/wp-content/uploads/2020/09/Leshers-Sunflowre-Field-7F0A6773-Edit.jpg\n",
            "[%] File Downloaded !\n",
            "\n",
            "[%] Downloading Image #27 from https://eskipaper.com/images/free-sunflower-field-pictures-1.jpg\n",
            "[%] File Downloaded !\n",
            "\n",
            "[%] Downloading Image #28 from https://wallpapercave.com/wp/wp5588654.jpg\n",
            "[%] File Downloaded !\n",
            "\n",
            "[%] Downloading Image #29 from http://wallpapercave.com/wp/iIKGwPD.jpg\n",
            "[%] File Downloaded !\n",
            "\n",
            "[%] Downloading Image #30 from http://s1.picswalls.com/wallpapers/2014/07/17/sunflower-hd_110757516_53.jpg\n",
            "[%] File Downloaded !\n",
            "\n",
            "\n",
            "\n",
            "[%] Done. Downloaded 30 images.\n"
          ]
        }
      ],
      "source": [
        "from bing_image_downloader import downloader\n",
        "downloader.download(\"pretty sunflower\",limit=30, output_dir=\"images\", adult_filter_off=True)"
      ]
    },
    {
      "cell_type": "code",
      "execution_count": null,
      "metadata": {
        "colab": {
          "base_uri": "https://localhost:8080/"
        },
        "id": "NtR0jKt2w72c",
        "outputId": "39306f2f-8d27-49d7-f3cf-414ff865055c"
      },
      "outputs": [
        {
          "name": "stdout",
          "output_type": "stream",
          "text": [
            "[%] Downloading Images to /content/images/nugby ball leather\n",
            "\n",
            "\n",
            "[!!]Indexing page: 1\n",
            "\n",
            "[%] Indexed 30 Images on Page 1.\n",
            "\n",
            "===============================================\n",
            "\n",
            "[%] Downloading Image #1 from https://cdn.shopclues.com/images/detailed/62433/ball2_1489557551.jpg\n",
            "[%] File Downloaded !\n",
            "\n",
            "[%] Downloading Image #2 from https://i.pinimg.com/originals/88/35/ee/8835ee98388ddf5b999bccffd2797320.jpg\n",
            "[%] File Downloaded !\n",
            "\n",
            "[%] Downloading Image #3 from https://img.vntg.com/large/15523958733965/leather-balls-in-three-sizes-1960s.jpg\n",
            "[%] File Downloaded !\n",
            "\n",
            "[%] Downloading Image #4 from https://pinesantiques.co.za/wp-content/uploads/2020/04/53F7EC05-F26C-4CA5-BC1B-66553A44621D.jpeg\n",
            "[%] File Downloaded !\n",
            "\n",
            "[%] Downloading Image #5 from https://i.etsystatic.com/27799758/r/il/be2a41/2898662460/il_570xN.2898662460_hc1q.jpg\n",
            "[%] File Downloaded !\n",
            "\n",
            "[%] Downloading Image #6 from https://contents.mediadecathlon.com/p1578931/1a2ac9f915249666f0869bb31df2038e/p1578931.jpg\n",
            "[%] File Downloaded !\n",
            "\n",
            "[%] Downloading Image #7 from https://secure.graysobjects.com/B2Bdata/GIL/2013/A/High Res/RAAA13LeatherBalls Vintage Leather Dark Tan Match Ball.jpg\n",
            "[!] Issue getting: https://secure.graysobjects.com/B2Bdata/GIL/2013/A/High Res/RAAA13LeatherBalls Vintage Leather Dark Tan Match Ball.jpg\n",
            "[!] Error:: URL can't contain control characters. '/B2Bdata/GIL/2013/A/High Res/RAAA13LeatherBalls Vintage Leather Dark Tan Match Ball.jpg' (found at least ' ')\n",
            "[%] Downloading Image #7 from https://cdn-s3.touchofmodern.com/products/001/323/796/e46cdde2e60a6c3e6efb510cde0da461_large.jpg?1544121098\n",
            "[%] File Downloaded !\n",
            "\n",
            "[%] Downloading Image #8 from https://n2.sdlcdn.com/imgs/h/s/l/SG-Bouncer-Leather-Cricket-Ball-SDL486984478-2-7e8df.jpg\n",
            "[%] File Downloaded !\n",
            "\n",
            "[%] Downloading Image #9 from https://i.pinimg.com/originals/8a/04/21/8a04218bea6666686b6258c88b64cd92.jpg\n",
            "[%] File Downloaded !\n",
            "\n",
            "[%] Downloading Image #10 from https://cdn.shopify.com/s/files/1/1010/9104/products/VintageRubgy-Side_2722x.jpg?v=1549400016\n",
            "[%] File Downloaded !\n",
            "\n",
            "[%] Downloading Image #11 from https://cdn-s3.touchofmodern.com/products/001/324/554/7b4f592ec7cbb221c069edba0b015b90_large.jpg?1544134067\n",
            "[%] File Downloaded !\n",
            "\n",
            "[%] Downloading Image #12 from https://i.pinimg.com/originals/56/2b/a0/562ba0ad65ad04756f3cfb019ea06e30.jpg\n",
            "[%] File Downloaded !\n",
            "\n",
            "[%] Downloading Image #13 from https://cdn-s3.touchofmodern.com/products/001/323/803/aeb0f634fee9605475a82e47c4398b5a_large.jpg?1544121099\n",
            "[%] File Downloaded !\n",
            "\n",
            "[%] Downloading Image #14 from https://cdna.4imprint.ca/prod/700/475173.jpg\n",
            "[%] File Downloaded !\n",
            "\n",
            "[%] Downloading Image #15 from https://thumbs.dreamstime.com/z/leather-balls-vintage-style-volleyball-rugby-34331532.jpg\n",
            "[%] File Downloaded !\n",
            "\n",
            "[%] Downloading Image #16 from https://cdn-s3.touchofmodern.com/products/001/323/793/d0d610878fe1f624a4e47614a860e200_large.jpg?1544121098\n",
            "[%] File Downloaded !\n",
            "\n",
            "[%] Downloading Image #17 from http://www.kraveantiques.co.uk/images/products/Brown-Rugby-Ball-1455-12.jpg\n",
            "[%] File Downloaded !\n",
            "\n",
            "[%] Downloading Image #18 from http://4.bp.blogspot.com/-F3Bvwkp5WSc/UE38SD2VIJI/AAAAAAAAA1A/GjnIOyYI2js/s1600/test_cb_edited-1.jpg\n",
            "[%] File Downloaded !\n",
            "\n",
            "[%] Downloading Image #19 from https://www.sportsequipmentoftoronto.com/img/product/S150-Z.jpg\n",
            "[%] File Downloaded !\n",
            "\n",
            "[%] Downloading Image #20 from https://webassets.cyranecloud.com/morrant/info/prdd78f4d41-d064-4843-ad46-78a35d43bacc.jpg\n",
            "[%] File Downloaded !\n",
            "\n",
            "[%] Downloading Image #21 from https://cdn.shopify.com/s/files/1/1010/9104/products/VintageRugby-BAck_4040x.jpg?v=1549400022\n",
            "[%] File Downloaded !\n",
            "\n",
            "[%] Downloading Image #22 from http://www.kraveantiques.co.uk/images/products/Leather-Rugby-Ball-958-5.jpg\n",
            "[%] File Downloaded !\n",
            "\n",
            "[%] Downloading Image #23 from http://cdn.shopify.com/s/files/1/0226/2169/products/0a2d5b467c23e50338e0cf0824978c72_1024x1024.jpg?v=1459274944\n",
            "[%] File Downloaded !\n",
            "\n",
            "[%] Downloading Image #24 from https://i.pinimg.com/originals/4c/9d/81/4c9d81195726a6d27002abcabe3982f8.jpg\n",
            "[%] File Downloaded !\n",
            "\n",
            "[%] Downloading Image #25 from https://5.imimg.com/data5/EW/TZ/ML/SELLER-78151359/leather-cricket-ball-500x500.jpg\n",
            "[%] File Downloaded !\n",
            "\n",
            "[%] Downloading Image #26 from https://secure.graysobjects.com/B2Bdata/GIL/2014/A/High Res/RAAA14LeatherBalls Heritage Leather Match Ball.jpg\n",
            "[!] Issue getting: https://secure.graysobjects.com/B2Bdata/GIL/2014/A/High Res/RAAA14LeatherBalls Heritage Leather Match Ball.jpg\n",
            "[!] Error:: URL can't contain control characters. '/B2Bdata/GIL/2014/A/High Res/RAAA14LeatherBalls Heritage Leather Match Ball.jpg' (found at least ' ')\n",
            "[%] Downloading Image #26 from https://img2.cgtrader.com/items/728386/0b211fd0b8/dark-leather-ball-weight-lifting-training-3d-model-low-poly-obj-mtl-fbx-ma-mb-dxf-stl-dae.jpg\n",
            "[%] File Downloaded !\n",
            "\n",
            "[%] Downloading Image #27 from https://static.turbosquid.com/Preview/2014/05/18__02_32_06/Cricket_BallNew_11.jpg6a4ad366-1573-4ec0-a661-1f6b9880b413Zoom.jpg\n",
            "[%] File Downloaded !\n",
            "\n",
            "[%] Downloading Image #28 from http://www.kraveantiques.co.uk/images/products/Slazenger-Rugby-Ball-1270-6.jpg\n",
            "[%] File Downloaded !\n",
            "\n",
            "\n",
            "\n",
            "[!!]Indexing page: 2\n",
            "\n",
            "[%] Indexed 35 Images on Page 2.\n",
            "\n",
            "===============================================\n",
            "\n",
            "[%] Downloading Image #29 from https://cdn-s3.touchofmodern.com/products/001/323/791/747ec1b9d79741dfdc64e98bedc689fc_large.jpg?1544121098\n",
            "[%] File Downloaded !\n",
            "\n",
            "[%] Downloading Image #30 from https://cdn.notonthehighstreet.com/system/product_images/images/000/441/248/original_SUM11-005-i.jpg\n",
            "[%] File Downloaded !\n",
            "\n",
            "\n",
            "\n",
            "[%] Done. Downloaded 30 images.\n"
          ]
        }
      ],
      "source": [
        "downloader.download(\"nugby ball leather\",limit=30, output_dir=\"images\", adult_filter_off=True)"
      ]
    },
    {
      "cell_type": "code",
      "execution_count": null,
      "metadata": {
        "colab": {
          "base_uri": "https://localhost:8080/"
        },
        "id": "ZDYbUnhgxXUM",
        "outputId": "6239637a-959f-4473-903a-6c68ac2b070f"
      },
      "outputs": [
        {
          "name": "stdout",
          "output_type": "stream",
          "text": [
            "[%] Downloading Images to /content/images/ice cream cone\n",
            "\n",
            "\n",
            "[!!]Indexing page: 1\n",
            "\n",
            "[%] Indexed 30 Images on Page 1.\n",
            "\n",
            "===============================================\n",
            "\n",
            "[%] Downloading Image #1 from http://www.camdenac.com/wp-content/uploads/2017/05/7-scoop-ice-cream-cone.jpg\n",
            "[Error]Invalid image, not saving http://www.camdenac.com/wp-content/uploads/2017/05/7-scoop-ice-cream-cone.jpg\n",
            "\n",
            "[!] Issue getting: http://www.camdenac.com/wp-content/uploads/2017/05/7-scoop-ice-cream-cone.jpg\n",
            "[!] Error:: Invalid image, not saving http://www.camdenac.com/wp-content/uploads/2017/05/7-scoop-ice-cream-cone.jpg\n",
            "\n",
            "[%] Downloading Image #1 from https://images.creativemarket.com/0.1.0/ps/4970037/1820/2918/m1/fpnw/wm1/lhfctp7lfzszsht3rdbshf2330lmekmddkvsyhcyjluflswpn9lbvpkkkd7uvwuw-.jpg?1535550524&amp;s=2a8c28d08c08a8134c90e583d7bd6f20\n",
            "[!] Issue getting: https://images.creativemarket.com/0.1.0/ps/4970037/1820/2918/m1/fpnw/wm1/lhfctp7lfzszsht3rdbshf2330lmekmddkvsyhcyjluflswpn9lbvpkkkd7uvwuw-.jpg?1535550524&amp;s=2a8c28d08c08a8134c90e583d7bd6f20\n",
            "[!] Error:: HTTP Error 403: Forbidden\n",
            "[%] Downloading Image #1 from https://www.ellinorsicecream.co.uk/wp-content/uploads/scoop-for-trailor-2.jpg\n",
            "[%] File Downloaded !\n",
            "\n",
            "[%] Downloading Image #2 from http://upload.wikimedia.org/wikipedia/commons/8/86/Ice_cream_cone.jpg\n",
            "[%] File Downloaded !\n",
            "\n",
            "[%] Downloading Image #3 from https://thumbs.dreamstime.com/z/six-ice-cream-cones-6-different-flavors-1013101.jpg\n",
            "[%] File Downloaded !\n",
            "\n",
            "[%] Downloading Image #4 from http://shewearsmanyhats.com/wp-content/uploads/2013/07/dipped-ice-cream-cones-7.jpg\n",
            "[%] File Downloaded !\n",
            "\n",
            "[%] Downloading Image #5 from https://www.procaffenation.com/wp-content/uploads/2017/04/22-1.jpg\n",
            "[Error]Invalid image, not saving https://www.procaffenation.com/wp-content/uploads/2017/04/22-1.jpg\n",
            "\n",
            "[!] Issue getting: https://www.procaffenation.com/wp-content/uploads/2017/04/22-1.jpg\n",
            "[!] Error:: Invalid image, not saving https://www.procaffenation.com/wp-content/uploads/2017/04/22-1.jpg\n",
            "\n",
            "[%] Downloading Image #5 from https://sugarspunrun.com/wp-content/uploads/2023/03/ice-cream-cone-cupcakes-1-of-1-3.jpg\n",
            "[%] File Downloaded !\n",
            "\n",
            "[%] Downloading Image #6 from https://i.pinimg.com/originals/60/46/1f/60461f63e4a8960d53c17b40d8dfb41e.jpg\n",
            "[%] File Downloaded !\n",
            "\n",
            "[%] Downloading Image #7 from https://sugarspunrun.com/wp-content/uploads/2015/08/ice-cream-cupcakes-2.jpg\n",
            "[%] File Downloaded !\n",
            "\n",
            "[%] Downloading Image #8 from https://www.webstaurantstore.com/images/products/extra_large/123848/1914523.jpg\n",
            "[%] File Downloaded !\n",
            "\n",
            "[%] Downloading Image #9 from https://cdn.wallpapersafari.com/93/56/xMtDkA.jpg\n",
            "[%] File Downloaded !\n",
            "\n",
            "[%] Downloading Image #10 from https://mir-s3-cdn-cf.behance.net/project_modules/1400/619b4626460315.5635582e7e0a4.jpg\n",
            "[Error]Invalid image, not saving https://mir-s3-cdn-cf.behance.net/project_modules/1400/619b4626460315.5635582e7e0a4.jpg\n",
            "\n",
            "[!] Issue getting: https://mir-s3-cdn-cf.behance.net/project_modules/1400/619b4626460315.5635582e7e0a4.jpg\n",
            "[!] Error:: Invalid image, not saving https://mir-s3-cdn-cf.behance.net/project_modules/1400/619b4626460315.5635582e7e0a4.jpg\n",
            "\n",
            "[%] Downloading Image #10 from http://www.cravingsofalunatic.com/wp-content/uploads/2016/03/Ice-Cream-Cone-Cupcakes-3.jpg\n",
            "[%] File Downloaded !\n",
            "\n",
            "[%] Downloading Image #11 from https://www.kitcheninnovationsinc.com/wp-content/uploads/2014/07/J218DISP-Ice-Cream.png\n",
            "[%] File Downloaded !\n",
            "\n",
            "[%] Downloading Image #12 from http://img1.nymag.com/imgs/daily/intelligencer/2015/05/28/28-ice-cream-sprinkles.w529.h529.2x.jpg\n",
            "[Error]Invalid image, not saving http://img1.nymag.com/imgs/daily/intelligencer/2015/05/28/28-ice-cream-sprinkles.w529.h529.2x.jpg\n",
            "\n",
            "[!] Issue getting: http://img1.nymag.com/imgs/daily/intelligencer/2015/05/28/28-ice-cream-sprinkles.w529.h529.2x.jpg\n",
            "[!] Error:: Invalid image, not saving http://img1.nymag.com/imgs/daily/intelligencer/2015/05/28/28-ice-cream-sprinkles.w529.h529.2x.jpg\n",
            "\n",
            "[%] Downloading Image #12 from https://i.pinimg.com/originals/05/47/e4/0547e41506f76cf258550e06a04e0b1c.jpg\n",
            "[%] File Downloaded !\n",
            "\n",
            "[%] Downloading Image #13 from http://3.bp.blogspot.com/-93_fBMbStxA/ToEGcFNcz3I/AAAAAAAAAcU/JVXx_HmFLfo/s1600/IMG_3500.jpg\n",
            "[%] File Downloaded !\n",
            "\n",
            "[%] Downloading Image #14 from https://www.tasteofhome.com/wp-content/uploads/2020/10/soft-serve-ice-cream-cone-1011538714.jpg\n",
            "[%] File Downloaded !\n",
            "\n",
            "[%] Downloading Image #15 from https://www.tasteofhome.com/wp-content/uploads/2018/03/Ice-Cream-Cone-Treats_EXPS_SSCBZ18_15427_B10_18_5b.jpg\n",
            "[%] File Downloaded !\n",
            "\n",
            "[%] Downloading Image #16 from https://blackfamilyfun.com/wp-content/uploads/2015/04/94482017-e1430401846608.jpg\n",
            "[%] File Downloaded !\n",
            "\n",
            "[%] Downloading Image #17 from https://static01.nyt.com/images/2013/06/02/magazine/02wmt/02wmt-superJumbo-v3.jpg?quality=90&amp;auto=webp\n",
            "[%] File Downloaded !\n",
            "\n",
            "[%] Downloading Image #18 from http://www.oexmann.com/upload/produkte/xl/7.png\n",
            "[!] Issue getting: http://www.oexmann.com/upload/produkte/xl/7.png\n",
            "[!] Error:: HTTP Error 404: Not Found\n",
            "[%] Downloading Image #18 from https://i0.wp.com/northogdenconnection.com/wp-content/uploads/2020/06/AdobeStock_267330679.jpeg?w=2169&amp;ssl=1\n",
            "[!] Issue getting: https://i0.wp.com/northogdenconnection.com/wp-content/uploads/2020/06/AdobeStock_267330679.jpeg?w=2169&amp;ssl=1\n",
            "[!] Error:: HTTP Error 404: Not Found\n",
            "[%] Downloading Image #18 from https://upload.wikimedia.org/wikipedia/commons/d/da/Strawberry_ice_cream_cone_(5076899310).jpg\n",
            "[%] File Downloaded !\n",
            "\n",
            "[%] Downloading Image #19 from https://www.courtneyssweets.com/wp-content/uploads/2016/10/Chocolate-Filled-Ice-Cream-Cones-1.jpg\n",
            "[%] File Downloaded !\n",
            "\n",
            "[%] Downloading Image #20 from https://assets.epicurious.com/photos/62d5d0d87c2a01bfcd8a187a/16:9/w_2560%2Cc_limit/FluffCone_HERO_071422_071422_37221.jpg\n",
            "[%] File Downloaded !\n",
            "\n",
            "[%] Downloading Image #21 from http://3.bp.blogspot.com/-GndwOmlhJQ4/VZKmtT3vBCI/AAAAAAAAK4M/gSkEmA0LmS8/s1600/Ice_cream_cone.jpg\n",
            "[%] File Downloaded !\n",
            "\n",
            "[%] Downloading Image #22 from https://www.lowcarb-nocarb.com/wp-content/uploads/2021/04/Ice-Cream-Cones-47.jpg\n",
            "[%] File Downloaded !\n",
            "\n",
            "[%] Downloading Image #23 from https://images.rawpixel.com/image_png_800/czNmcy1wcml2YXRlL3Jhd3BpeGVsX2ltYWdlcy93ZWJzaXRlX2NvbnRlbnQvbHIvcm01MTUtZWxlbWVudC0wMDE1LnBuZw.png\n",
            "[%] File Downloaded !\n",
            "\n",
            "\n",
            "\n",
            "[!!]Indexing page: 2\n",
            "\n",
            "[%] Indexed 35 Images on Page 2.\n",
            "\n",
            "===============================================\n",
            "\n",
            "[%] Downloading Image #24 from https://cdn.apartmenttherapy.info/image/upload/f_jpg,q_auto:eco,c_fill,g_auto,w_1500,ar_1:1/k%2FPhoto%2FRecipe Ramp Up%2F2022-06-Ice-Cream-Cones%2Fwaffle_cone_2_of_2\n",
            "[!] Issue getting: https://cdn.apartmenttherapy.info/image/upload/f_jpg,q_auto:eco,c_fill,g_auto,w_1500,ar_1:1/k%2FPhoto%2FRecipe Ramp Up%2F2022-06-Ice-Cream-Cones%2Fwaffle_cone_2_of_2\n",
            "[!] Error:: URL can't contain control characters. '/image/upload/f_jpg,q_auto:eco,c_fill,g_auto,w_1500,ar_1:1/k%2FPhoto%2FRecipe Ramp Up%2F2022-06-Ice-Cream-Cones%2Fwaffle_cone_2_of_2' (found at least ' ')\n",
            "[%] Downloading Image #24 from https://www.shutterstock.com/shutterstock/photos/201425834/display_1500/stock-photo-chocolate-vanilla-and-strawberry-ice-cream-in-the-cone-on-white-background-with-clipping-path-201425834.jpg\n",
            "[%] File Downloaded !\n",
            "\n",
            "[%] Downloading Image #25 from https://static.vecteezy.com/system/resources/previews/024/106/564/original/tasty-colorful-ice-cream-cone-with-transparent-background-png.png\n",
            "[!] Issue getting: https://static.vecteezy.com/system/resources/previews/024/106/564/original/tasty-colorful-ice-cream-cone-with-transparent-background-png.png\n",
            "[!] Error:: HTTP Error 403: Forbidden\n",
            "[%] Downloading Image #25 from https://i.etsystatic.com/19543171/r/il/bbb827/4358930527/il_fullxfull.4358930527_oh8u.jpg\n",
            "[%] File Downloaded !\n",
            "\n",
            "[%] Downloading Image #26 from https://thumbs.dreamstime.com/b/ice-cream-cone-7125570.jpg\n",
            "[%] File Downloaded !\n",
            "\n",
            "\n",
            "\n",
            "[!!]Indexing page: 3\n",
            "\n",
            "[%] Indexed 30 Images on Page 3.\n",
            "\n",
            "===============================================\n",
            "\n",
            "\n",
            "\n",
            "[!!]Indexing page: 4\n",
            "\n",
            "[%] Indexed 30 Images on Page 4.\n",
            "\n",
            "===============================================\n",
            "\n",
            "\n",
            "\n",
            "[!!]Indexing page: 5\n",
            "\n",
            "[%] Indexed 30 Images on Page 5.\n",
            "\n",
            "===============================================\n",
            "\n",
            "[%] Downloading Image #27 from https://storage.googleapis.com/eezee-product-images/sugar-ice-cream-cone-800-case-yzdh_600.jpg\n",
            "[Error]Invalid image, not saving https://storage.googleapis.com/eezee-product-images/sugar-ice-cream-cone-800-case-yzdh_600.jpg\n",
            "\n",
            "[!] Issue getting: https://storage.googleapis.com/eezee-product-images/sugar-ice-cream-cone-800-case-yzdh_600.jpg\n",
            "[!] Error:: Invalid image, not saving https://storage.googleapis.com/eezee-product-images/sugar-ice-cream-cone-800-case-yzdh_600.jpg\n",
            "\n",
            "\n",
            "\n",
            "[!!]Indexing page: 6\n",
            "\n",
            "[%] Indexed 30 Images on Page 6.\n",
            "\n",
            "===============================================\n",
            "\n",
            "\n",
            "\n",
            "[!!]Indexing page: 7\n",
            "\n",
            "[%] Indexed 30 Images on Page 7.\n",
            "\n",
            "===============================================\n",
            "\n",
            "\n",
            "\n",
            "[!!]Indexing page: 8\n",
            "\n",
            "[%] Indexed 30 Images on Page 8.\n",
            "\n",
            "===============================================\n",
            "\n",
            "\n",
            "\n",
            "[!!]Indexing page: 9\n",
            "\n",
            "[%] Indexed 30 Images on Page 9.\n",
            "\n",
            "===============================================\n",
            "\n",
            "[%] Downloading Image #27 from https://res.cloudinary.com/sonic-drive-in/image/upload/c_fit,w_600,h_600,dpr_2,f_auto,q_auto/v1603480016/oa_menu/products/menuproduct-vanilla_cone.png\n",
            "[%] File Downloaded !\n",
            "\n",
            "[%] Downloading Image #28 from https://becs-table.com.au/wp-content/uploads/2014/01/ice-cream-cone.jpg\n",
            "[!] Issue getting: https://becs-table.com.au/wp-content/uploads/2014/01/ice-cream-cone.jpg\n",
            "[!] Error:: Remote end closed connection without response\n",
            "\n",
            "\n",
            "[!!]Indexing page: 10\n",
            "\n",
            "[%] Indexed 30 Images on Page 10.\n",
            "\n",
            "===============================================\n",
            "\n",
            "\n",
            "\n",
            "[!!]Indexing page: 11\n",
            "\n",
            "[%] Indexed 30 Images on Page 11.\n",
            "\n",
            "===============================================\n",
            "\n",
            "[%] Downloading Image #28 from https://www.flavourstreat.com/wp-content/uploads/2022/08/vanilla-icecream-without-icemaker-001.jpg\n",
            "[%] File Downloaded !\n",
            "\n",
            "[%] Downloading Image #29 from https://cheatdaydesign.com/wp-content/uploads/2018/05/Soft-Serve-Vanilla-Cone-Comparison.jpg\n",
            "[%] File Downloaded !\n",
            "\n",
            "\n",
            "\n",
            "[!!]Indexing page: 12\n",
            "\n",
            "[%] Indexed 30 Images on Page 12.\n",
            "\n",
            "===============================================\n",
            "\n",
            "[%] Downloading Image #30 from https://www.biggerbolderbaking.com/wp-content/uploads/2016/06/BBB022123_1703-scaled.jpg\n",
            "[Error]Invalid image, not saving https://www.biggerbolderbaking.com/wp-content/uploads/2016/06/BBB022123_1703-scaled.jpg\n",
            "\n",
            "[!] Issue getting: https://www.biggerbolderbaking.com/wp-content/uploads/2016/06/BBB022123_1703-scaled.jpg\n",
            "[!] Error:: Invalid image, not saving https://www.biggerbolderbaking.com/wp-content/uploads/2016/06/BBB022123_1703-scaled.jpg\n",
            "\n",
            "\n",
            "\n",
            "[!!]Indexing page: 13\n",
            "\n",
            "[%] Indexed 30 Images on Page 13.\n",
            "\n",
            "===============================================\n",
            "\n",
            "[%] Downloading Image #30 from https://www.pngmart.com/files/3/Ice-Cream-Cone-PNG-Picture.png\n",
            "[%] File Downloaded !\n",
            "\n",
            "\n",
            "\n",
            "[%] Done. Downloaded 30 images.\n"
          ]
        }
      ],
      "source": [
        "downloader.download(\"ice cream cone\",limit=30, output_dir=\"images\", adult_filter_off=True)"
      ]
    },
    {
      "cell_type": "code",
      "execution_count": null,
      "metadata": {
        "colab": {
          "base_uri": "https://localhost:8080/"
        },
        "id": "BZi6VemAvzLf",
        "outputId": "1268e5c6-f654-4fa9-d076-ec12afe12153"
      },
      "outputs": [
        {
          "data": {
            "text/plain": [
              "2"
            ]
          },
          "execution_count": 62,
          "metadata": {},
          "output_type": "execute_result"
        }
      ],
      "source": [
        "import numpy as np\n",
        "a=np.array([[1,2,3,4],[2,34,5,7]])\n",
        "a.ndim"
      ]
    },
    {
      "cell_type": "code",
      "execution_count": null,
      "metadata": {
        "colab": {
          "base_uri": "https://localhost:8080/"
        },
        "id": "KGnkgrMCwXll",
        "outputId": "e0fc251b-68b9-4e94-8f2d-4417e530da19"
      },
      "outputs": [
        {
          "data": {
            "text/plain": [
              "array([ 1,  2,  3,  4,  2, 34,  5,  7])"
            ]
          },
          "execution_count": 63,
          "metadata": {},
          "output_type": "execute_result"
        }
      ],
      "source": [
        "#convert into single dimension use flatten\n",
        "a.flatten()"
      ]
    },
    {
      "cell_type": "code",
      "execution_count": null,
      "metadata": {
        "colab": {
          "base_uri": "https://localhost:8080/"
        },
        "id": "BRfhcNdQpwh2",
        "outputId": "5165276b-7c3f-43ee-f290-5ae4febb927f"
      },
      "outputs": [
        {
          "name": "stderr",
          "output_type": "stream",
          "text": [
            "/usr/local/lib/python3.10/dist-packages/PIL/Image.py:1056: UserWarning: Palette images with Transparency expressed in bytes should be converted to RGBA images\n",
            "  warnings.warn(\n"
          ]
        }
      ],
      "source": [
        "# Preprocessing\n",
        "# 1.Resizing\n",
        "# 2. Flatten\n",
        "\n",
        "import os\n",
        "import matplotlib.pyplot as plt\n",
        "import numpy as numpy\n",
        "from skimage.io import imread\n",
        "from skimage.transform import resize\n",
        "\n",
        "target = []\n",
        "images = []\n",
        "flat_data = []\n",
        "\n",
        "DATADIR = '/content/images'\n",
        "CATEGORIES = ['pretty sunflower','nugby ball leather','ice cream cone']\n",
        "\n",
        "for category in CATEGORIES:\n",
        "  class_num=CATEGORIES.index(category)   # Label Encoding the values\n",
        "  path =os.path.join(DATADIR,category)  #  create path to use all the images\n",
        "  for img in os.listdir(path):\n",
        "    img_array=imread(os.path.join(path,img))\n",
        "    #print(img_array.shape)\n",
        "    #plt.imshow(img_array)\n",
        "    img_resized = resize(img_array,(150,150,3))  # Normalizes the values from 0 to 1 by using sklearn\n",
        "    flat_data.append(img_resized.flatten())\n",
        "    images.append(img_resized)\n",
        "    target.append(class_num)\n",
        "\n",
        "flat_data =np.array(flat_data)\n",
        "target= np.array(target)\n",
        "images= np.array(images)\n"
      ]
    },
    {
      "cell_type": "code",
      "execution_count": null,
      "metadata": {
        "colab": {
          "base_uri": "https://localhost:8080/"
        },
        "id": "xx8y0dUA0Kcc",
        "outputId": "6a509f28-1d88-47a3-d3c7-4aec37d13978"
      },
      "outputs": [
        {
          "data": {
            "text/plain": [
              "array([0.81499042, 0.4461079 , 0.44680684, ..., 0.01424068, 0.42354335,\n",
              "       0.08965983])"
            ]
          },
          "execution_count": 65,
          "metadata": {},
          "output_type": "execute_result"
        }
      ],
      "source": [
        "flat_data[0]"
      ]
    },
    {
      "cell_type": "code",
      "execution_count": null,
      "metadata": {
        "colab": {
          "base_uri": "https://localhost:8080/"
        },
        "id": "3w83shBi__mr",
        "outputId": "07f47e30-3f4f-4914-b57f-35670434a864"
      },
      "outputs": [
        {
          "data": {
            "text/plain": [
              "67500"
            ]
          },
          "execution_count": 66,
          "metadata": {},
          "output_type": "execute_result"
        }
      ],
      "source": [
        "len(flat_data[0])"
      ]
    },
    {
      "cell_type": "code",
      "execution_count": null,
      "metadata": {
        "colab": {
          "base_uri": "https://localhost:8080/"
        },
        "id": "mJXhKugyAG5M",
        "outputId": "edf27913-e59f-46bb-e541-6197de6ecfce"
      },
      "outputs": [
        {
          "data": {
            "text/plain": [
              "67500"
            ]
          },
          "execution_count": 67,
          "metadata": {},
          "output_type": "execute_result"
        }
      ],
      "source": [
        "150*150*3"
      ]
    },
    {
      "cell_type": "code",
      "execution_count": null,
      "metadata": {
        "colab": {
          "base_uri": "https://localhost:8080/"
        },
        "id": "bTndYsuXAKzA",
        "outputId": "8d2f212c-31c3-468a-e4d6-f1d9ef803daa"
      },
      "outputs": [
        {
          "data": {
            "text/plain": [
              "array([0, 0, 0, 0, 0, 0, 0, 0, 0, 0, 0, 0, 0, 0, 0, 0, 0, 0, 0, 0, 0, 0,\n",
              "       0, 0, 0, 0, 0, 0, 0, 0, 0, 0, 1, 1, 1, 1, 1, 1, 1, 1, 1, 1, 1, 1,\n",
              "       1, 1, 1, 1, 1, 1, 1, 1, 1, 1, 1, 1, 1, 1, 1, 1, 1, 1, 2, 2, 2, 2,\n",
              "       2, 2, 2, 2, 2, 2, 2, 2, 2, 2, 2, 2, 2, 2, 2, 2, 2, 2, 2, 2, 2, 2,\n",
              "       2, 2, 2, 2, 2, 2, 2, 2, 2, 2])"
            ]
          },
          "execution_count": 68,
          "metadata": {},
          "output_type": "execute_result"
        }
      ],
      "source": [
        "target"
      ]
    },
    {
      "cell_type": "code",
      "execution_count": null,
      "metadata": {
        "colab": {
          "base_uri": "https://localhost:8080/",
          "height": 447
        },
        "id": "RBADsxP4AOOA",
        "outputId": "5f762c07-b8aa-4c2e-adea-af6a56ef10e7"
      },
      "outputs": [
        {
          "data": {
            "text/plain": [
              "<BarContainer object of 3 artists>"
            ]
          },
          "execution_count": 69,
          "metadata": {},
          "output_type": "execute_result"
        },
        {
          "data": {
            "image/png": "[encoded data removed]",
            "text/plain": [
              "<Figure size 640x480 with 1 Axes>"
            ]
          },
          "metadata": {},
          "output_type": "display_data"
        }
      ],
      "source": [
        "unique,counts=np.unique(target,return_counts=True)\n",
        "plt.bar(CATEGORIES,counts)"
      ]
    },
    {
      "cell_type": "code",
      "execution_count": null,
      "metadata": {
        "id": "aSqIMWc2AwN5"
      },
      "outputs": [],
      "source": [
        "#split the data into training anfd testing\n",
        "from sklearn.model_selection import train_test_split\n",
        "x_train,x_test,y_train,y_test = train_test_split(flat_data,target,test_size=0.3,random_state=109)"
      ]
    },
    {
      "cell_type": "code",
      "execution_count": null,
      "metadata": {
        "colab": {
          "base_uri": "https://localhost:8080/",
          "height": 134
        },
        "id": "gsyV4-CnB0Ta",
        "outputId": "5b20fa40-9930-4397-febd-dfd6d2894e26"
      },
      "outputs": [
        {
          "data": {
            "text/html": [
              "<style>#sk-container-id-2 {\n",
              "  /* Definition of color scheme common for light and dark mode */\n",
              "  --sklearn-color-text: black;\n",
              "  --sklearn-color-line: gray;\n",
              "  /* Definition of color scheme for unfitted estimators */\n",
              "  --sklearn-color-unfitted-level-0: #fff5e6;\n",
              "  --sklearn-color-unfitted-level-1: #f6e4d2;\n",
              "  --sklearn-color-unfitted-level-2: #ffe0b3;\n",
              "  --sklearn-color-unfitted-level-3: chocolate;\n",
              "  /* Definition of color scheme for fitted estimators */\n",
              "  --sklearn-color-fitted-level-0: #f0f8ff;\n",
              "  --sklearn-color-fitted-level-1: #d4ebff;\n",
              "  --sklearn-color-fitted-level-2: #b3dbfd;\n",
              "  --sklearn-color-fitted-level-3: cornflowerblue;\n",
              "\n",
              "  /* Specific color for light theme */\n",
              "  --sklearn-color-text-on-default-background: var(--sg-text-color, var(--theme-code-foreground, var(--jp-content-font-color1, black)));\n",
              "  --sklearn-color-background: var(--sg-background-color, var(--theme-background, var(--jp-layout-color0, white)));\n",
              "  --sklearn-color-border-box: var(--sg-text-color, var(--theme-code-foreground, var(--jp-content-font-color1, black)));\n",
              "  --sklearn-color-icon: #696969;\n",
              "\n",
              "  @media (prefers-color-scheme: dark) {\n",
              "    /* Redefinition of color scheme for dark theme */\n",
              "    --sklearn-color-text-on-default-background: var(--sg-text-color, var(--theme-code-foreground, var(--jp-content-font-color1, white)));\n",
              "    --sklearn-color-background: var(--sg-background-color, var(--theme-background, var(--jp-layout-color0, #111)));\n",
              "    --sklearn-color-border-box: var(--sg-text-color, var(--theme-code-foreground, var(--jp-content-font-color1, white)));\n",
              "    --sklearn-color-icon: #878787;\n",
              "  }\n",
              "}\n",
              "\n",
              "#sk-container-id-2 {\n",
              "  color: var(--sklearn-color-text);\n",
              "}\n",
              "\n",
              "#sk-container-id-2 pre {\n",
              "  padding: 0;\n",
              "}\n",
              "\n",
              "#sk-container-id-2 input.sk-hidden--visually {\n",
              "  border: 0;\n",
              "  clip: rect(1px 1px 1px 1px);\n",
              "  clip: rect(1px, 1px, 1px, 1px);\n",
              "  height: 1px;\n",
              "  margin: -1px;\n",
              "  overflow: hidden;\n",
              "  padding: 0;\n",
              "  position: absolute;\n",
              "  width: 1px;\n",
              "}\n",
              "\n",
              "#sk-container-id-2 div.sk-dashed-wrapped {\n",
              "  border: 1px dashed var(--sklearn-color-line);\n",
              "  margin: 0 0.4em 0.5em 0.4em;\n",
              "  box-sizing: border-box;\n",
              "  padding-bottom: 0.4em;\n",
              "  background-color: var(--sklearn-color-background);\n",
              "}\n",
              "\n",
              "#sk-container-id-2 div.sk-container {\n",
              "  /* jupyter's `normalize.less` sets `[hidden] { display: none; }`\n",
              "     but bootstrap.min.css set `[hidden] { display: none !important; }`\n",
              "     so we also need the `!important` here to be able to override the\n",
              "     default hidden behavior on the sphinx rendered scikit-learn.org.\n",
              "     See: https://github.com/scikit-learn/scikit-learn/issues/21755 */\n",
              "  display: inline-block !important;\n",
              "  position: relative;\n",
              "}\n",
              "\n",
              "#sk-container-id-2 div.sk-text-repr-fallback {\n",
              "  display: none;\n",
              "}\n",
              "\n",
              "div.sk-parallel-item,\n",
              "div.sk-serial,\n",
              "div.sk-item {\n",
              "  /* draw centered vertical line to link estimators */\n",
              "  background-image: linear-gradient(var(--sklearn-color-text-on-default-background), var(--sklearn-color-text-on-default-background));\n",
              "  background-size: 2px 100%;\n",
              "  background-repeat: no-repeat;\n",
              "  background-position: center center;\n",
              "}\n",
              "\n",
              "/* Parallel-specific style estimator block */\n",
              "\n",
              "#sk-container-id-2 div.sk-parallel-item::after {\n",
              "  content: \"\";\n",
              "  width: 100%;\n",
              "  border-bottom: 2px solid var(--sklearn-color-text-on-default-background);\n",
              "  flex-grow: 1;\n",
              "}\n",
              "\n",
              "#sk-container-id-2 div.sk-parallel {\n",
              "  display: flex;\n",
              "  align-items: stretch;\n",
              "  justify-content: center;\n",
              "  background-color: var(--sklearn-color-background);\n",
              "  position: relative;\n",
              "}\n",
              "\n",
              "#sk-container-id-2 div.sk-parallel-item {\n",
              "  display: flex;\n",
              "  flex-direction: column;\n",
              "}\n",
              "\n",
              "#sk-container-id-2 div.sk-parallel-item:first-child::after {\n",
              "  align-self: flex-end;\n",
              "  width: 50%;\n",
              "}\n",
              "\n",
              "#sk-container-id-2 div.sk-parallel-item:last-child::after {\n",
              "  align-self: flex-start;\n",
              "  width: 50%;\n",
              "}\n",
              "\n",
              "#sk-container-id-2 div.sk-parallel-item:only-child::after {\n",
              "  width: 0;\n",
              "}\n",
              "\n",
              "/* Serial-specific style estimator block */\n",
              "\n",
              "#sk-container-id-2 div.sk-serial {\n",
              "  display: flex;\n",
              "  flex-direction: column;\n",
              "  align-items: center;\n",
              "  background-color: var(--sklearn-color-background);\n",
              "  padding-right: 1em;\n",
              "  padding-left: 1em;\n",
              "}\n",
              "\n",
              "\n",
              "/* Toggleable style: style used for estimator/Pipeline/ColumnTransformer box that is\n",
              "clickable and can be expanded/collapsed.\n",
              "- Pipeline and ColumnTransformer use this feature and define the default style\n",
              "- Estimators will overwrite some part of the style using the `sk-estimator` class\n",
              "*/\n",
              "\n",
              "/* Pipeline and ColumnTransformer style (default) */\n",
              "\n",
              "#sk-container-id-2 div.sk-toggleable {\n",
              "  /* Default theme specific background. It is overwritten whether we have a\n",
              "  specific estimator or a Pipeline/ColumnTransformer */\n",
              "  background-color: var(--sklearn-color-background);\n",
              "}\n",
              "\n",
              "/* Toggleable label */\n",
              "#sk-container-id-2 label.sk-toggleable__label {\n",
              "  cursor: pointer;\n",
              "  display: block;\n",
              "  width: 100%;\n",
              "  margin-bottom: 0;\n",
              "  padding: 0.5em;\n",
              "  box-sizing: border-box;\n",
              "  text-align: center;\n",
              "}\n",
              "\n",
              "#sk-container-id-2 label.sk-toggleable__label-arrow:before {\n",
              "  /* Arrow on the left of the label */\n",
              "  content: \"▸\";\n",
              "  float: left;\n",
              "  margin-right: 0.25em;\n",
              "  color: var(--sklearn-color-icon);\n",
              "}\n",
              "\n",
              "#sk-container-id-2 label.sk-toggleable__label-arrow:hover:before {\n",
              "  color: var(--sklearn-color-text);\n",
              "}\n",
              "\n",
              "/* Toggleable content - dropdown */\n",
              "\n",
              "#sk-container-id-2 div.sk-toggleable__content {\n",
              "  max-height: 0;\n",
              "  max-width: 0;\n",
              "  overflow: hidden;\n",
              "  text-align: left;\n",
              "  /* unfitted */\n",
              "  background-color: var(--sklearn-color-unfitted-level-0);\n",
              "}\n",
              "\n",
              "#sk-container-id-2 div.sk-toggleable__content.fitted {\n",
              "  /* fitted */\n",
              "  background-color: var(--sklearn-color-fitted-level-0);\n",
              "}\n",
              "\n",
              "#sk-container-id-2 div.sk-toggleable__content pre {\n",
              "  margin: 0.2em;\n",
              "  border-radius: 0.25em;\n",
              "  color: var(--sklearn-color-text);\n",
              "  /* unfitted */\n",
              "  background-color: var(--sklearn-color-unfitted-level-0);\n",
              "}\n",
              "\n",
              "#sk-container-id-2 div.sk-toggleable__content.fitted pre {\n",
              "  /* unfitted */\n",
              "  background-color: var(--sklearn-color-fitted-level-0);\n",
              "}\n",
              "\n",
              "#sk-container-id-2 input.sk-toggleable__control:checked~div.sk-toggleable__content {\n",
              "  /* Expand drop-down */\n",
              "  max-height: 200px;\n",
              "  max-width: 100%;\n",
              "  overflow: auto;\n",
              "}\n",
              "\n",
              "#sk-container-id-2 input.sk-toggleable__control:checked~label.sk-toggleable__label-arrow:before {\n",
              "  content: \"▾\";\n",
              "}\n",
              "\n",
              "/* Pipeline/ColumnTransformer-specific style */\n",
              "\n",
              "#sk-container-id-2 div.sk-label input.sk-toggleable__control:checked~label.sk-toggleable__label {\n",
              "  color: var(--sklearn-color-text);\n",
              "  background-color: var(--sklearn-color-unfitted-level-2);\n",
              "}\n",
              "\n",
              "#sk-container-id-2 div.sk-label.fitted input.sk-toggleable__control:checked~label.sk-toggleable__label {\n",
              "  background-color: var(--sklearn-color-fitted-level-2);\n",
              "}\n",
              "\n",
              "/* Estimator-specific style */\n",
              "\n",
              "/* Colorize estimator box */\n",
              "#sk-container-id-2 div.sk-estimator input.sk-toggleable__control:checked~label.sk-toggleable__label {\n",
              "  /* unfitted */\n",
              "  background-color: var(--sklearn-color-unfitted-level-2);\n",
              "}\n",
              "\n",
              "#sk-container-id-2 div.sk-estimator.fitted input.sk-toggleable__control:checked~label.sk-toggleable__label {\n",
              "  /* fitted */\n",
              "  background-color: var(--sklearn-color-fitted-level-2);\n",
              "}\n",
              "\n",
              "#sk-container-id-2 div.sk-label label.sk-toggleable__label,\n",
              "#sk-container-id-2 div.sk-label label {\n",
              "  /* The background is the default theme color */\n",
              "  color: var(--sklearn-color-text-on-default-background);\n",
              "}\n",
              "\n",
              "/* On hover, darken the color of the background */\n",
              "#sk-container-id-2 div.sk-label:hover label.sk-toggleable__label {\n",
              "  color: var(--sklearn-color-text);\n",
              "  background-color: var(--sklearn-color-unfitted-level-2);\n",
              "}\n",
              "\n",
              "/* Label box, darken color on hover, fitted */\n",
              "#sk-container-id-2 div.sk-label.fitted:hover label.sk-toggleable__label.fitted {\n",
              "  color: var(--sklearn-color-text);\n",
              "  background-color: var(--sklearn-color-fitted-level-2);\n",
              "}\n",
              "\n",
              "/* Estimator label */\n",
              "\n",
              "#sk-container-id-2 div.sk-label label {\n",
              "  font-family: monospace;\n",
              "  font-weight: bold;\n",
              "  display: inline-block;\n",
              "  line-height: 1.2em;\n",
              "}\n",
              "\n",
              "#sk-container-id-2 div.sk-label-container {\n",
              "  text-align: center;\n",
              "}\n",
              "\n",
              "/* Estimator-specific */\n",
              "#sk-container-id-2 div.sk-estimator {\n",
              "  font-family: monospace;\n",
              "  border: 1px dotted var(--sklearn-color-border-box);\n",
              "  border-radius: 0.25em;\n",
              "  box-sizing: border-box;\n",
              "  margin-bottom: 0.5em;\n",
              "  /* unfitted */\n",
              "  background-color: var(--sklearn-color-unfitted-level-0);\n",
              "}\n",
              "\n",
              "#sk-container-id-2 div.sk-estimator.fitted {\n",
              "  /* fitted */\n",
              "  background-color: var(--sklearn-color-fitted-level-0);\n",
              "}\n",
              "\n",
              "/* on hover */\n",
              "#sk-container-id-2 div.sk-estimator:hover {\n",
              "  /* unfitted */\n",
              "  background-color: var(--sklearn-color-unfitted-level-2);\n",
              "}\n",
              "\n",
              "#sk-container-id-2 div.sk-estimator.fitted:hover {\n",
              "  /* fitted */\n",
              "  background-color: var(--sklearn-color-fitted-level-2);\n",
              "}\n",
              "\n",
              "/* Specification for estimator info (e.g. \"i\" and \"?\") */\n",
              "\n",
              "/* Common style for \"i\" and \"?\" */\n",
              "\n",
              ".sk-estimator-doc-link,\n",
              "a:link.sk-estimator-doc-link,\n",
              "a:visited.sk-estimator-doc-link {\n",
              "  float: right;\n",
              "  font-size: smaller;\n",
              "  line-height: 1em;\n",
              "  font-family: monospace;\n",
              "  background-color: var(--sklearn-color-background);\n",
              "  border-radius: 1em;\n",
              "  height: 1em;\n",
              "  width: 1em;\n",
              "  text-decoration: none !important;\n",
              "  margin-left: 1ex;\n",
              "  /* unfitted */\n",
              "  border: var(--sklearn-color-unfitted-level-1) 1pt solid;\n",
              "  color: var(--sklearn-color-unfitted-level-1);\n",
              "}\n",
              "\n",
              ".sk-estimator-doc-link.fitted,\n",
              "a:link.sk-estimator-doc-link.fitted,\n",
              "a:visited.sk-estimator-doc-link.fitted {\n",
              "  /* fitted */\n",
              "  border: var(--sklearn-color-fitted-level-1) 1pt solid;\n",
              "  color: var(--sklearn-color-fitted-level-1);\n",
              "}\n",
              "\n",
              "/* On hover */\n",
              "div.sk-estimator:hover .sk-estimator-doc-link:hover,\n",
              ".sk-estimator-doc-link:hover,\n",
              "div.sk-label-container:hover .sk-estimator-doc-link:hover,\n",
              ".sk-estimator-doc-link:hover {\n",
              "  /* unfitted */\n",
              "  background-color: var(--sklearn-color-unfitted-level-3);\n",
              "  color: var(--sklearn-color-background);\n",
              "  text-decoration: none;\n",
              "}\n",
              "\n",
              "div.sk-estimator.fitted:hover .sk-estimator-doc-link.fitted:hover,\n",
              ".sk-estimator-doc-link.fitted:hover,\n",
              "div.sk-label-container:hover .sk-estimator-doc-link.fitted:hover,\n",
              ".sk-estimator-doc-link.fitted:hover {\n",
              "  /* fitted */\n",
              "  background-color: var(--sklearn-color-fitted-level-3);\n",
              "  color: var(--sklearn-color-background);\n",
              "  text-decoration: none;\n",
              "}\n",
              "\n",
              "/* Span, style for the box shown on hovering the info icon */\n",
              ".sk-estimator-doc-link span {\n",
              "  display: none;\n",
              "  z-index: 9999;\n",
              "  position: relative;\n",
              "  font-weight: normal;\n",
              "  right: .2ex;\n",
              "  padding: .5ex;\n",
              "  margin: .5ex;\n",
              "  width: min-content;\n",
              "  min-width: 20ex;\n",
              "  max-width: 50ex;\n",
              "  color: var(--sklearn-color-text);\n",
              "  box-shadow: 2pt 2pt 4pt #999;\n",
              "  /* unfitted */\n",
              "  background: var(--sklearn-color-unfitted-level-0);\n",
              "  border: .5pt solid var(--sklearn-color-unfitted-level-3);\n",
              "}\n",
              "\n",
              ".sk-estimator-doc-link.fitted span {\n",
              "  /* fitted */\n",
              "  background: var(--sklearn-color-fitted-level-0);\n",
              "  border: var(--sklearn-color-fitted-level-3);\n",
              "}\n",
              "\n",
              ".sk-estimator-doc-link:hover span {\n",
              "  display: block;\n",
              "}\n",
              "\n",
              "/* \"?\"-specific style due to the `<a>` HTML tag */\n",
              "\n",
              "#sk-container-id-2 a.estimator_doc_link {\n",
              "  float: right;\n",
              "  font-size: 1rem;\n",
              "  line-height: 1em;\n",
              "  font-family: monospace;\n",
              "  background-color: var(--sklearn-color-background);\n",
              "  border-radius: 1rem;\n",
              "  height: 1rem;\n",
              "  width: 1rem;\n",
              "  text-decoration: none;\n",
              "  /* unfitted */\n",
              "  color: var(--sklearn-color-unfitted-level-1);\n",
              "  border: var(--sklearn-color-unfitted-level-1) 1pt solid;\n",
              "}\n",
              "\n",
              "#sk-container-id-2 a.estimator_doc_link.fitted {\n",
              "  /* fitted */\n",
              "  border: var(--sklearn-color-fitted-level-1) 1pt solid;\n",
              "  color: var(--sklearn-color-fitted-level-1);\n",
              "}\n",
              "\n",
              "/* On hover */\n",
              "#sk-container-id-2 a.estimator_doc_link:hover {\n",
              "  /* unfitted */\n",
              "  background-color: var(--sklearn-color-unfitted-level-3);\n",
              "  color: var(--sklearn-color-background);\n",
              "  text-decoration: none;\n",
              "}\n",
              "\n",
              "#sk-container-id-2 a.estimator_doc_link.fitted:hover {\n",
              "  /* fitted */\n",
              "  background-color: var(--sklearn-color-fitted-level-3);\n",
              "}\n",
              "</style><div id=\"sk-container-id-2\" class=\"sk-top-container\"><div class=\"sk-text-repr-fallback\"><pre>GridSearchCV(estimator=SVC(probability=True),\n",
              "             param_grid=[{&#x27;C&#x27;: [1, 10, 100, 1000], &#x27;kernel&#x27;: [&#x27;linear&#x27;]},\n",
              "                         {&#x27;C&#x27;: [1, 10, 100, 1000], &#x27;gamma&#x27;: [0.001, 0.0001],\n",
              "                          &#x27;kernel&#x27;: [&#x27;rbf&#x27;]}])</pre><b>In a Jupyter environment, please rerun this cell to show the HTML representation or trust the notebook. <br />On GitHub, the HTML representation is unable to render, please try loading this page with nbviewer.org.</b></div><div class=\"sk-container\" hidden><div class=\"sk-item sk-dashed-wrapped\"><div class=\"sk-label-container\"><div class=\"sk-label fitted sk-toggleable\"><input class=\"sk-toggleable__control sk-hidden--visually\" id=\"sk-estimator-id-4\" type=\"checkbox\" ><label for=\"sk-estimator-id-4\" class=\"sk-toggleable__label fitted sk-toggleable__label-arrow fitted\">&nbsp;&nbsp;GridSearchCV<a class=\"sk-estimator-doc-link fitted\" rel=\"noreferrer\" target=\"_blank\" href=\"https://scikit-learn.org/1.5/modules/generated/sklearn.model_selection.GridSearchCV.html\">?<span>Documentation for GridSearchCV</span></a><span class=\"sk-estimator-doc-link fitted\">i<span>Fitted</span></span></label><div class=\"sk-toggleable__content fitted\"><pre>GridSearchCV(estimator=SVC(probability=True),\n",
              "             param_grid=[{&#x27;C&#x27;: [1, 10, 100, 1000], &#x27;kernel&#x27;: [&#x27;linear&#x27;]},\n",
              "                         {&#x27;C&#x27;: [1, 10, 100, 1000], &#x27;gamma&#x27;: [0.001, 0.0001],\n",
              "                          &#x27;kernel&#x27;: [&#x27;rbf&#x27;]}])</pre></div> </div></div><div class=\"sk-parallel\"><div class=\"sk-parallel-item\"><div class=\"sk-item\"><div class=\"sk-label-container\"><div class=\"sk-label fitted sk-toggleable\"><input class=\"sk-toggleable__control sk-hidden--visually\" id=\"sk-estimator-id-5\" type=\"checkbox\" ><label for=\"sk-estimator-id-5\" class=\"sk-toggleable__label fitted sk-toggleable__label-arrow fitted\">best_estimator_: SVC</label><div class=\"sk-toggleable__content fitted\"><pre>SVC(C=10, gamma=0.0001, probability=True)</pre></div> </div></div><div class=\"sk-serial\"><div class=\"sk-item\"><div class=\"sk-estimator fitted sk-toggleable\"><input class=\"sk-toggleable__control sk-hidden--visually\" id=\"sk-estimator-id-6\" type=\"checkbox\" ><label for=\"sk-estimator-id-6\" class=\"sk-toggleable__label fitted sk-toggleable__label-arrow fitted\">&nbsp;SVC<a class=\"sk-estimator-doc-link fitted\" rel=\"noreferrer\" target=\"_blank\" href=\"https://scikit-learn.org/1.5/modules/generated/sklearn.svm.SVC.html\">?<span>Documentation for SVC</span></a></label><div class=\"sk-toggleable__content fitted\"><pre>SVC(C=10, gamma=0.0001, probability=True)</pre></div> </div></div></div></div></div></div></div></div></div>"
            ],
            "text/plain": [
              "GridSearchCV(estimator=SVC(probability=True),\n",
              "             param_grid=[{'C': [1, 10, 100, 1000], 'kernel': ['linear']},\n",
              "                         {'C': [1, 10, 100, 1000], 'gamma': [0.001, 0.0001],\n",
              "                          'kernel': ['rbf']}])"
            ]
          },
          "execution_count": 71,
          "metadata": {},
          "output_type": "execute_result"
        }
      ],
      "source": [
        "from sklearn.model_selection import GridSearchCV\n",
        "from sklearn import svm\n",
        "param_grid = [\n",
        "    { 'C':[1,10,100,1000],'kernel' : ['linear']},\n",
        "    {'C':[1,10,100,1000],'gamma' :[0.001,0.0001],'kernel': ['rbf']},\n",
        "]\n",
        "\n",
        "svc= svm.SVC(probability=True)\n",
        "clf =GridSearchCV(svc,param_grid)\n",
        "clf.fit(x_train,y_train)"
      ]
    },
    {
      "cell_type": "code",
      "execution_count": null,
      "metadata": {
        "colab": {
          "base_uri": "https://localhost:8080/"
        },
        "id": "pdKL9NXwKgCt",
        "outputId": "139e07ed-f20e-4d74-91de-72e0b544a785"
      },
      "outputs": [
        {
          "data": {
            "text/plain": [
              "array([2, 1, 1, 1, 1, 1, 2, 0, 2, 0, 2, 0, 0, 1, 1, 1, 2, 2, 1, 0, 0, 0,\n",
              "       2, 1, 1, 2, 2, 0, 2, 2])"
            ]
          },
          "execution_count": 72,
          "metadata": {},
          "output_type": "execute_result"
        }
      ],
      "source": [
        "y_pred = clf.predict(x_test)\n",
        "y_pred"
      ]
    },
    {
      "cell_type": "code",
      "execution_count": null,
      "metadata": {
        "colab": {
          "base_uri": "https://localhost:8080/"
        },
        "id": "kwKvT8drK1zv",
        "outputId": "c5dfcc20-e1f8-4e6a-fbe1-faa8b81d4e6a"
      },
      "outputs": [
        {
          "data": {
            "text/plain": [
              "array([2, 1, 1, 2, 1, 1, 2, 0, 2, 0, 2, 0, 0, 1, 1, 1, 2, 2, 1, 0, 0, 0,\n",
              "       2, 1, 1, 2, 2, 0, 2, 2])"
            ]
          },
          "execution_count": 73,
          "metadata": {},
          "output_type": "execute_result"
        }
      ],
      "source": [
        "y_test"
      ]
    },
    {
      "cell_type": "code",
      "execution_count": null,
      "metadata": {
        "id": "wlDwcZRUK5pg"
      },
      "outputs": [],
      "source": [
        "# Model Evalution\n",
        "from sklearn.metrics import accuracy_score,confusion_matrix"
      ]
    },
    {
      "cell_type": "code",
      "execution_count": null,
      "metadata": {
        "colab": {
          "base_uri": "https://localhost:8080/"
        },
        "id": "HgSJJFcyLYz7",
        "outputId": "9ba56a2b-813f-4d15-dcf4-f8375d4a26ff"
      },
      "outputs": [
        {
          "data": {
            "text/plain": [
              "0.9666666666666667"
            ]
          },
          "execution_count": 75,
          "metadata": {},
          "output_type": "execute_result"
        }
      ],
      "source": [
        "accuracy_score(y_pred,y_test)"
      ]
    },
    {
      "cell_type": "code",
      "execution_count": null,
      "metadata": {
        "colab": {
          "base_uri": "https://localhost:8080/"
        },
        "id": "99rp5dXLLkw7",
        "outputId": "db0022d1-605c-41ac-87fb-57b03e30d607"
      },
      "outputs": [
        {
          "data": {
            "text/plain": [
              "array([[ 8,  0,  0],\n",
              "       [ 0, 10,  1],\n",
              "       [ 0,  0, 11]])"
            ]
          },
          "execution_count": 76,
          "metadata": {},
          "output_type": "execute_result"
        }
      ],
      "source": [
        "confusion_matrix(y_pred,y_test)"
      ]
    },
    {
      "cell_type": "code",
      "execution_count": null,
      "metadata": {
        "id": "rqWAtbYAMTUr"
      },
      "outputs": [],
      "source": [
        "# save the model using pickle library\n",
        "import pickle\n",
        "pickle.dump(clf,open('img_model.p','wb'))"
      ]
    },
    {
      "cell_type": "code",
      "execution_count": null,
      "metadata": {
        "id": "cvCCSWLmNBRi"
      },
      "outputs": [],
      "source": [
        "model = pickle.load(open('img_model.p','rb'))"
      ]
    },
    {
      "cell_type": "code",
      "execution_count": null,
      "metadata": {
        "colab": {
          "base_uri": "https://localhost:8080/",
          "height": 541
        },
        "id": "wUe9UteYNBaD",
        "outputId": "5c8f6c0c-dc2d-40ab-b98c-5e6847522599"
      },
      "outputs": [
        {
          "name": "stdout",
          "output_type": "stream",
          "text": [
            "Enter the urlhttps://wallpapers.com/images/high/vanilla-soft-serve-ice-cream-cone-png-e4w4un6c174rds6e.png\n"
          ]
        },
        {
          "name": "stderr",
          "output_type": "stream",
          "text": [
            "/usr/local/lib/python3.10/dist-packages/PIL/Image.py:1056: UserWarning: Palette images with Transparency expressed in bytes should be converted to RGBA images\n",
            "  warnings.warn(\n"
          ]
        },
        {
          "name": "stdout",
          "output_type": "stream",
          "text": [
            "(900, 448, 3)\n",
            " PREDICTED OUTPUT: ice cream cone\n"
          ]
        },
        {
          "data": {
            "image/png": "[encoded data removed]",
            "text/plain": [
              "<Figure size 640x480 with 1 Axes>"
            ]
          },
          "metadata": {},
          "output_type": "display_data"
        }
      ],
      "source": [
        "#Testing a brand new Image\n",
        "flatt_data =[]\n",
        "url =input('Enter the url')\n",
        "img = imread(url)\n",
        "print(img.shape)\n",
        "img_resized = resize(img,(150,150,3))\n",
        "flatt_data.append(img_resized.flatten())\n",
        "flatt_data = np.array(flatt_data)\n",
        "\n",
        "plt.imshow(img_resized)\n",
        "y_out = model.predict(flatt_data)\n",
        "y_out = CATEGORIES[y_out[0]]\n",
        "print(f' PREDICTED OUTPUT: {y_out}')\n"
      ]
    },
    {
      "cell_type": "code",
      "execution_count": null,
      "metadata": {
        "colab": {
          "base_uri": "https://localhost:8080/"
        },
        "id": "G3-bpflpzJDP",
        "outputId": "8281fec3-59ed-4ece-9a77-554f227b1ecd"
      },
      "outputs": [
        {
          "data": {
            "text/plain": [
              "['pretty sunflower', 'nugby ball leather', 'ice cream cone']"
            ]
          },
          "execution_count": 81,
          "metadata": {},
          "output_type": "execute_result"
        }
      ],
      "source": [
        "CATEGORIES"
      ]
    }
  ],
  "metadata": {
    "colab": {
      "provenance": [],
      "toc_visible": true
    },
    "kernelspec": {
      "display_name": "Python 3",
      "name": "python3"
    },
    "language_info": {
      "codemirror_mode": {
        "name": "ipython",
        "version": 3
      },
      "file_extension": ".py",
      "mimetype": "text/x-python",
      "name": "python",
      "nbconvert_exporter": "python",
      "pygments_lexer": "ipython3",
      "version": "3.12.6"
    }
  },
  "nbformat": 4,
  "nbformat_minor": 0
}
